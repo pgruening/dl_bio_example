{
 "cells": [
  {
   "cell_type": "code",
   "execution_count": null,
   "metadata": {},
   "outputs": [],
   "source": [
    "import json\n",
    "from os.path import basename, dirname, join\n",
    "\n",
    "import torchvision\n",
    "from DLBio.kwargs_translator import get_kwargs\n",
    "from DLBio.pytorch_helpers import get_device, load_model_with_opt\n",
    "from torch.utils.tensorboard import SummaryWriter\n",
    "\n",
    "import config\n",
    "from datasets.data_getter import get_data_loaders\n",
    "from models.model_getter import get_model\n",
    "from utils import log_tensorboard"
   ]
  },
  {
   "cell_type": "code",
   "execution_count": null,
   "metadata": {},
   "outputs": [],
   "source": [
    "%load_ext tensorboard"
   ]
  },
  {
   "cell_type": "code",
   "execution_count": null,
   "metadata": {},
   "outputs": [],
   "source": [
    "def load_model_from_opt(options, device):\n",
    "    mt = options.model_type\n",
    "    in_dim = options.in_dim\n",
    "    out_dim = options.out_dim\n",
    "    model_kw = get_kwargs(options.model_kw)\n",
    "\n",
    "    if hasattr(options,\"model_kw\"):\n",
    "        kw = options.model_kw    \n",
    "        model_kw = get_kwargs(kw)\n",
    "    else:\n",
    "        model_kw = dict()\n",
    "\n",
    "    return get_model(mt, in_dim, out_dim, device, False, **model_kw)"
   ]
  },
  {
   "cell_type": "code",
   "execution_count": null,
   "metadata": {},
   "outputs": [],
   "source": [
    "WORKDIR = \"experiments/_debug/\"\n",
    "ADD_MODEL = True \n",
    "TB_OUT = \"runs/_debug\""
   ]
  },
  {
   "cell_type": "code",
   "execution_count": null,
   "metadata": {},
   "outputs": [],
   "source": [
    "data_loaders = get_data_loaders('mnist', config.BS, split_index=0)\n",
    "\n",
    "if ADD_MODEL:\n",
    "    model_path = join(WORKDIR, 'model.pt')\n",
    "    opt = join(WORKDIR, \"opt.json\")\n",
    "    device = get_device()\n",
    "    model = load_model_with_opt(model_path, options=opt, get_model_fcn=load_model_from_opt, device=device)\n",
    "\n",
    "log_tensorboard(WORKDIR, TB_OUT, data_loaders, 3, model)"
   ]
  },
  {
   "cell_type": "code",
   "execution_count": null,
   "metadata": {},
   "outputs": [],
   "source": [
    "%tensorboard --logdir runs/_debug/"
   ]
  },
  {
   "cell_type": "code",
   "execution_count": null,
   "metadata": {},
   "outputs": [],
   "source": []
  }
 ],
 "metadata": {
  "kernelspec": {
   "display_name": "Python 3",
   "language": "python",
   "name": "python3"
  },
  "language_info": {
   "codemirror_mode": {
    "name": "ipython",
    "version": 3
   },
   "file_extension": ".py",
   "mimetype": "text/x-python",
   "name": "python",
   "nbconvert_exporter": "python",
   "pygments_lexer": "ipython3",
   "version": "3.6.9"
  }
 },
 "nbformat": 4,
 "nbformat_minor": 2
}
