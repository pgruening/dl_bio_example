{
 "metadata": {
  "language_info": {
   "codemirror_mode": {
    "name": "ipython",
    "version": 3
   },
   "file_extension": ".py",
   "mimetype": "text/x-python",
   "name": "python",
   "nbconvert_exporter": "python",
   "pygments_lexer": "ipython3",
   "version": 3
  },
  "orig_nbformat": 2
 },
 "nbformat": 4,
 "nbformat_minor": 2,
 "cells": [
  {
   "cell_type": "code",
   "execution_count": null,
   "metadata": {},
   "outputs": [],
   "source": [
    "import json\n",
    "import matplotlib.pyplot as plt\n",
    "import glob\n",
    "import statistics\n",
    "\n",
    "import pandas as pd\n",
    "import seaborn as sns\n",
    "\n",
    "from os.path import join\n",
    "from os import walk, path\n",
    "\n",
    "from DLBio.kwargs_translator import get_kwargs"
   ]
  },
  {
   "cell_type": "code",
   "execution_count": null,
   "metadata": {},
   "outputs": [],
   "source": [
    "SRC_DIR = '../experiments/eval_custom_models'"
   ]
  },
  {
   "cell_type": "code",
   "execution_count": null,
   "metadata": {},
   "outputs": [],
   "source": [
    "def load_json(file_path):\n",
    "    with open(file_path, 'r') as file:\n",
    "        out = json.load(file)\n",
    "    return out"
   ]
  },
  {
   "cell_type": "code",
   "execution_count": null,
   "metadata": {},
   "outputs": [],
   "source": [
    "folders = glob.glob(join(SRC_DIR, 'layer*'))\n",
    "\n",
    "# get all logs and opts and save the relevant features in a DataFrame\n",
    "data = []\n",
    "for i,folder in enumerate(folders):\n",
    "    log = load_json(join(folder, 'log.json'))\n",
    "    opt = load_json(join(folder, 'opt.json'))\n",
    "    \n",
    "    if not bool(log):\n",
    "        print(f'log_{i} is empty')\n",
    "        continue\n",
    "    \n",
    "    # Params: \n",
    "    acc = log['val_acc'][-1]\n",
    "    er = log['val_er'][-1]\n",
    "    \n",
    "    d = {}\n",
    "    \n",
    "    model_kw = get_kwargs(opt['model_kw'])\n",
    "    d['num_layer'] =  int(model_kw.get('num_layer', [0])[0])\n",
    "    d['init_dim'] = int(model_kw.get('init_dim', [0])[0])\n",
    "    \n",
    "    d['seed'] = opt['seed']    \n",
    "    d['acc'] = acc    \n",
    "    d['er'] = er\n",
    "    \n",
    "   \n",
    "    \n",
    "    data.append(d)\n",
    "    \n",
    "    "
   ]
  },
  {
   "cell_type": "code",
   "execution_count": null,
   "metadata": {},
   "outputs": [],
   "source": [
    "df = pd.DataFrame(data)\n",
    "key = ('acc', 'mean')\n",
    "\n",
    "agg = {\n",
    "        'seed' : 'min',\n",
    "        'acc' : ['mean', 'min'],\n",
    "        'init_dim' : 'first',\n",
    "        'er' : 'mean'\n",
    "      }\n",
    "df.groupby(['num_layer', 'init_dim']).agg(agg).sort_values(by=[key], ascending=False)\n",
    "\n"
   ]
  },
  {
   "cell_type": "code",
   "execution_count": null,
   "metadata": {},
   "outputs": [],
   "source": [
    "fig, axes = plt.subplots(2,2, figsize=(20, 20))\n",
    "sns.boxplot(ax=axes[0, 0], x=\"num_layer\", y=\"acc\",data=df)\n",
    "sns.stripplot(ax=axes[0, 1],x=\"num_layer\", y=\"acc\", data=df, hue=\"init_dim\")\n",
    "\n",
    "sns.boxplot(ax=axes[1, 0], x=\"num_layer\", y=\"er\",data=df)\n",
    "sns.stripplot(ax=axes[1, 1], x=\"num_layer\", y=\"er\", data=df, hue=\"init_dim\")"
   ]
  }
 ]
}